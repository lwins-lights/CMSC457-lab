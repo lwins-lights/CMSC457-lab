{
 "cells": [
  {
   "cell_type": "markdown",
   "id": "cba9735e",
   "metadata": {},
   "source": [
    "# Lab 2\n",
    "\n",
    "CMSC 457 Spring 2022\n",
    "\n",
    "Prepared by Yufan Zheng\n",
    "\n",
    "## Content\n",
    "\n",
    "* Preliminary\n",
    "* Q# basics\n",
    "* Grover's search\n",
    "* Solving SAT with Grover's search\n",
    "\n",
    "## Preliminary\n",
    "\n",
    "* Anaconda: A cross-platform Python distribution\n",
    "    * Install by the package downloaded from https://www.anaconda.com/download/\n",
    "* Q# with Jupyter\n",
    "    * See install guide on https://docs.microsoft.com/en-us/azure/quantum/install-command-line-qdk\n",
    "    \n",
    "## Q# Basics\n",
    "\n",
    "* Grammar resembles that of C#\n",
    "* Documentation: https://docs.microsoft.com/en-us/azure/quantum/user-guide/\n",
    "* Do not forget Google-based programming!\n",
    "\n",
    "### Hello World\n",
    "\n",
    "`Unit` is a type with only one valid value `()`. Its counterpart in C++ is `void`."
   ]
  },
  {
   "cell_type": "code",
   "execution_count": null,
   "id": "8e302b4a",
   "metadata": {},
   "outputs": [],
   "source": [
    "function HelloQ() : Unit {\n",
    "    Microsoft.Quantum.Intrinsic.Message(\"Hello quantum world!\"); \n",
    "}"
   ]
  },
  {
   "cell_type": "markdown",
   "id": "8160b81c",
   "metadata": {},
   "source": [
    "* Use `%simulate` command to call an operation or function in Jupyter.\n",
    "* See https://docs.microsoft.com/en-us/qsharp/api/iqsharp-magic/ for more magic commands."
   ]
  },
  {
   "cell_type": "code",
   "execution_count": null,
   "id": "eb5a7b0f",
   "metadata": {},
   "outputs": [],
   "source": [
    "%simulate HelloQ"
   ]
  },
  {
   "cell_type": "markdown",
   "id": "72742e09",
   "metadata": {},
   "source": [
    "Use `open` to load libraries, just like what `from ... import *` does in Python or what `#include` does in C++."
   ]
  },
  {
   "cell_type": "code",
   "execution_count": null,
   "id": "790c13b6",
   "metadata": {},
   "outputs": [],
   "source": [
    "open Microsoft.Quantum.Intrinsic;\n",
    "    \n",
    "function HelloQ2() : Unit {\n",
    "    Message(\"Hello quantum world (again)!\"); \n",
    "}"
   ]
  },
  {
   "cell_type": "code",
   "execution_count": null,
   "id": "505c235e",
   "metadata": {},
   "outputs": [],
   "source": [
    "%simulate HelloQ2"
   ]
  },
  {
   "cell_type": "markdown",
   "id": "2f21218f",
   "metadata": {},
   "source": [
    "### Variables\n",
    "\n",
    "* `let` for defining constants\n",
    "* `mutable` for defining variables\n",
    "* `set` whenever you change the value of a variable"
   ]
  },
  {
   "cell_type": "code",
   "execution_count": null,
   "id": "a903aa23",
   "metadata": {},
   "outputs": [],
   "source": [
    "open Microsoft.Quantum.Convert; // for IntAsString()\n",
    "\n",
    "function SetConstant() : Unit {\n",
    "    let a = 10;\n",
    "    Message(IntAsString(a));\n",
    "}"
   ]
  },
  {
   "cell_type": "code",
   "execution_count": null,
   "id": "827a9752",
   "metadata": {},
   "outputs": [],
   "source": [
    "%simulate SetConstant"
   ]
  },
  {
   "cell_type": "code",
   "execution_count": null,
   "id": "e81dbaee",
   "metadata": {},
   "outputs": [],
   "source": [
    "function SetConstant2() : Unit {\n",
    "    let a = 10;\n",
    "    set a = a + 1;\n",
    "    Message(IntAsString(a));\n",
    "}"
   ]
  },
  {
   "cell_type": "code",
   "execution_count": null,
   "id": "8c1fc0e9",
   "metadata": {},
   "outputs": [],
   "source": [
    "function SetConstant3() : Unit {\n",
    "    mutable a = 10;\n",
    "    set a = a + 1;\n",
    "    Message(IntAsString(a));\n",
    "}"
   ]
  },
  {
   "cell_type": "code",
   "execution_count": null,
   "id": "0c71dae4",
   "metadata": {},
   "outputs": [],
   "source": [
    "%simulate SetConstant3"
   ]
  },
  {
   "cell_type": "markdown",
   "id": "681be103",
   "metadata": {},
   "source": [
    "### Loops and Branching"
   ]
  },
  {
   "cell_type": "code",
   "execution_count": null,
   "id": "f4fbe9d1",
   "metadata": {},
   "outputs": [],
   "source": [
    "function Enumerate() : Unit {\n",
    "    for i in 0 .. 5 {\n",
    "        if (i % 3 == 0) {\n",
    "            Message(\"A\");\n",
    "        } elif (i % 3 == 1) {\n",
    "            Message(\"B\");\n",
    "        } else {\n",
    "            Message(\"C\");\n",
    "        }\n",
    "    }\n",
    "}"
   ]
  },
  {
   "cell_type": "code",
   "execution_count": null,
   "id": "52b815e3",
   "metadata": {},
   "outputs": [],
   "source": [
    "%simulate Enumerate"
   ]
  },
  {
   "cell_type": "markdown",
   "id": "8495ba51",
   "metadata": {},
   "source": [
    "### Array\n",
    "\n",
    "* `b = a w/ i <- x;` means `b = a; b[i] = x;`\n",
    "* `a w/= i <- x;` means `a[i] = x;`"
   ]
  },
  {
   "cell_type": "code",
   "execution_count": null,
   "id": "c304dfdd",
   "metadata": {},
   "outputs": [],
   "source": [
    "function Sum(arr : Int[]) : Int {\n",
    "    mutable ret = 0;\n",
    "    for i in 0 .. Length(arr) - 1 {\n",
    "        set ret = ret + arr[i];\n",
    "    }\n",
    "    return ret;\n",
    "}\n",
    "\n",
    "function TestSum() : Unit {\n",
    "    mutable a = [0, size = 4];  // a == [0, 0, 0, 0]\n",
    "    Message(IntAsString(Sum(a)));\n",
    "    mutable b = a w/ 2 <- 3;  // b == [0, 0, 3, 0]\n",
    "    Message(IntAsString(Sum(b)));\n",
    "    set a w/= 0 <- 4;  // a == [4, 0, 0, 0]\n",
    "    set a w/= 1 <- 3;  // a == [4, 3, 0, 0]\n",
    "    set a w/= 2 <- 2;  // a == [4, 3, 2, 0]\n",
    "    set a w/= 3 <- 1;  // a == [4, 3, 2, 1]\n",
    "    Message(IntAsString(Sum(a)));\n",
    "}"
   ]
  },
  {
   "cell_type": "code",
   "execution_count": null,
   "id": "1be145a9",
   "metadata": {},
   "outputs": [],
   "source": [
    "%simulate TestSum"
   ]
  },
  {
   "cell_type": "markdown",
   "id": "5ecd8359",
   "metadata": {},
   "source": [
    "### Qubit and Operation\n",
    "* Use `use` to get new qubits in the $|0 \\rangle$ state\n",
    "* Qubits _have to_ be restored to $|0 \\rangle$, or measured right before release\n",
    "* Anything related to quantum have to be done in `operation` but not `function`\n",
    "    * `function` cannot call `operation`\n",
    "    * Rule of thumb: the output of `function` is deterministic\n",
    "* Check https://docs.microsoft.com/en-us/qsharp/api/qsharp/microsoft.quantum.intrinsic for basic quantum gates\n",
    "* `M(q)` for measuring a single qubit `q` with computational basis"
   ]
  },
  {
   "cell_type": "code",
   "execution_count": null,
   "id": "f3ea2222",
   "metadata": {},
   "outputs": [],
   "source": [
    "operation DrawACoin() : Result {\n",
    "    use q = Qubit();\n",
    "    H(q);\n",
    "    return M(q); // M(q) == Zero or One\n",
    "}\n",
    "\n",
    "operation DrawCoins(n : Int) : Unit {\n",
    "    mutable res = \"\";\n",
    "    for i in 1 .. n {\n",
    "        if (DrawACoin() == Zero) {\n",
    "            set res += \"H\";\n",
    "        } else {\n",
    "            set res += \"T\";\n",
    "        }\n",
    "    }\n",
    "    Message(res);\n",
    "}"
   ]
  },
  {
   "cell_type": "code",
   "execution_count": null,
   "id": "c16c479b",
   "metadata": {
    "scrolled": true
   },
   "outputs": [],
   "source": [
    "%simulate DrawCoins n=20"
   ]
  },
  {
   "cell_type": "markdown",
   "id": "8fc760fe",
   "metadata": {},
   "source": [
    "### Operation/Function as Input/Output"
   ]
  },
  {
   "cell_type": "code",
   "execution_count": null,
   "id": "79b16cc7",
   "metadata": {},
   "outputs": [],
   "source": [
    "open Microsoft.Quantum.Diagnostics;  // for DumpMachine()\n",
    "\n",
    "operation ApplyToEach(op : Qubit => Unit, qReg : Qubit[]) : Unit {\n",
    "    for q in qReg {\n",
    "        op(q);\n",
    "    }\n",
    "}\n",
    "\n",
    "operation TestApplyToEach() : Unit {\n",
    "    use qReg = Qubit[3];\n",
    "    ApplyToEach(H, qReg);\n",
    "    DumpMachine();\n",
    "}"
   ]
  },
  {
   "cell_type": "code",
   "execution_count": null,
   "id": "c30fb5b8",
   "metadata": {
    "scrolled": true
   },
   "outputs": [],
   "source": [
    "%simulate TestApplyToEach"
   ]
  },
  {
   "cell_type": "code",
   "execution_count": null,
   "id": "4358c3e8",
   "metadata": {
    "scrolled": true
   },
   "outputs": [],
   "source": [
    "function MultiQubitVersionOf(op : Qubit => Unit) : Qubit[] => Unit {\n",
    "    return ApplyToEach(op, _);\n",
    "}\n",
    "\n",
    "operation TestMultiQubitVersionOf() : Unit {\n",
    "    use qarr = Qubit[2];\n",
    "    (MultiQubitVersionOf(H))(qarr);\n",
    "    DumpMachine();\n",
    "}"
   ]
  },
  {
   "cell_type": "code",
   "execution_count": null,
   "id": "0ccd5279",
   "metadata": {
    "scrolled": true
   },
   "outputs": [],
   "source": [
    "%simulate TestMultiQubitVersionOf"
   ]
  },
  {
   "cell_type": "markdown",
   "id": "7a964059",
   "metadata": {},
   "source": [
    "### Controlled and Adjoint Operators\n",
    "\n",
    "We can let Q# compute the controlled and the adjoint version of _any_ operator.\n",
    "```\n",
    "H(q);\n",
    "Adjoint H(q);\n",
    "Controlled H(qReg, q);\n",
    "Adjoint Controlled H(qReg, q);\n",
    "```\n",
    "In order to let `Adjoint` and `Controlled` work on user-defined operators, we need to tell Q# explicitly to generate them:\n",
    "```\n",
    "operation ApplyT2Each(qReg : Qubit[]) : Unit is Adj + Ctl {\n",
    "    for q in qReg {\n",
    "        T(q);\n",
    "    }\n",
    "}\n",
    "```\n",
    "\n",
    "## Quantum Katas\n",
    "\n",
    "* https://github.com/microsoft/QuantumKatas\n",
    "* Official self-paced tutorial of Q#\n",
    "\n",
    "\n",
    "## Grover's Search\n",
    "\n",
    "See https://github.com/microsoft/QuantumKatas/blob/56dbd9d806c18693f9bf8f19103e813c9b1fa3e3/GroversAlgorithm/GroversAlgorithm.ipynb.\n",
    "\n",
    "## Solving SAT with Grover's Search\n",
    "\n",
    "$$\n",
    "    O : |x\\rangle |y \\rangle \\mapsto |x\\rangle |y \\oplus f(x) \\rangle\n",
    "$$\n",
    "* Our previous construction is $f(x) = \\boldsymbol{1}\\{x = z\\}$ for a designated $z$.\n",
    "* However, it is possible to set e.g. $f(x) = (x_1 \\lor \\neg x_2 \\lor x_4) \\land (x_2 \\lor x_3) \\land \\dots$.\n",
    "* SAT is unlikely to be solved in time $2^{(1-o(1))n}$ classically, while Grover gives us $\\sim \\sqrt{2^n} = 2^{0.5n}$."
   ]
  }
 ],
 "metadata": {
  "kernelspec": {
   "display_name": "Q#",
   "language": "qsharp",
   "name": "iqsharp"
  },
  "language_info": {
   "file_extension": ".qs",
   "mimetype": "text/x-qsharp",
   "name": "qsharp",
   "version": "0.14"
  }
 },
 "nbformat": 4,
 "nbformat_minor": 5
}
